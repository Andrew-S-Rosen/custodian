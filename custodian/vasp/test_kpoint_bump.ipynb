{
 "cells": [
  {
   "cell_type": "code",
   "execution_count": 90,
   "metadata": {},
   "outputs": [],
   "source": [
    "from __future__ import annotations\n",
    "from pymatgen.io.vasp import Kpoints\n",
    "import numpy as np\n",
    "\n",
    "from pymatgen.core import Structure\n",
    "\n",
    "def _bump_up_kpoints(\n",
    "    kpoints : Kpoints | dict,\n",
    "    structure : Structure,\n",
    "    factor : float = 0.2,\n",
    "    max_inc : int = 100,\n",
    "    min_kpoints : int | None = None\n",
    ") -> dict:\n",
    "    \"\"\"\n",
    "    Inputs:\n",
    "        kpoints (Kpoints or dict) : original Kpoints used in the calculation\n",
    "        structure (Structure) : associated structure\n",
    "        factor (float) : factor used to increase k-point density.\n",
    "            The first increase uses approximately (1 + factor) higher k-point density.\n",
    "            The second increase: ~ (1 + 2*factor) higher k-kpoint density, etc.\n",
    "        max_inc (int) : the maximum permitted increases in k-point density \n",
    "            before giving up\n",
    "        min_kpoints (int or None): if an int, the minimum permitted number of \n",
    "            k-points. Could be useful if using the tetrahedron method, where\n",
    "            at least 4 k-points are needed.\n",
    "    Outputs:\n",
    "        dict : the new Kpoints object as a dict\n",
    "    \"\"\"\n",
    "\n",
    "    if isinstance(kpoints,Kpoints):\n",
    "        kpoints = kpoints.as_dict()\n",
    "    orig_num_kpoints = np.prod(kpoints[\"kpoints\"][0])\n",
    "    is_gamma_centered = kpoints.get(\"generation_style\",\"Gamma\").lower() == \"gamma\"\n",
    "\n",
    "    # try to approximate k-points per reciprocal atom used in pymatgen\n",
    "    lengths = structure.lattice.abc\n",
    "    mult = max([nk*lengths[ik] for ik, nk in enumerate(kpoints[\"kpoints\"][0])])\n",
    "    ngrid = mult**3/np.prod(lengths)\n",
    "    kppa = len(structure)*ngrid\n",
    "\n",
    "    mult_fac = 1. + factor\n",
    "    for _ in range(max_inc):\n",
    "\n",
    "        new_kpoints = Kpoints.automatic_density(\n",
    "            structure,\n",
    "            mult_fac*kppa,\n",
    "            force_gamma = is_gamma_centered\n",
    "        )\n",
    "\n",
    "        min_kpoints = min_kpoints or 1\n",
    "        if (new_num_kpoints := np.prod(new_kpoints.kpts[0]) ) > orig_num_kpoints and (\n",
    "            new_num_kpoints > min_kpoints\n",
    "        ):\n",
    "            break\n",
    "        \n",
    "        mult_fac += factor\n",
    "\n",
    "    return new_kpoints.as_dict()"
   ]
  },
  {
   "cell_type": "code",
   "execution_count": 89,
   "metadata": {},
   "outputs": [
    {
     "name": "stdout",
     "output_type": "stream",
     "text": [
      "3 70.82339993423021\n"
     ]
    },
    {
     "data": {
      "text/plain": [
       "([(3, 2, 1)], [(3, 1, 1)])"
      ]
     },
     "execution_count": 89,
     "metadata": {},
     "output_type": "execute_result"
    }
   ],
   "source": [
    "s = Structure.from_file(\"/Users/aaronkaplan/Library/CloudStorage/Dropbox/postdoc_MP/software/custodian_tet/tests/files/CONTCAR\")\n",
    "k = Kpoints.automatic_density(s,100)\n",
    "_bump_up_kpoints(k,s)[\"kpoints\"], k.kpts"
   ]
  },
  {
   "cell_type": "code",
   "execution_count": 86,
   "metadata": {},
   "outputs": [
    {
     "data": {
      "text/plain": [
       "<matplotlib.collections.PathCollection at 0x2c7f73dd0>"
      ]
     },
     "execution_count": 86,
     "metadata": {},
     "output_type": "execute_result"
    },
    {
     "data": {
      "image/png": "[encoded data removed]",
      "text/plain": [
       "<Figure size 640x480 with 1 Axes>"
      ]
     },
     "metadata": {},
     "output_type": "display_data"
    }
   ],
   "source": [
    "import matplotlib.pyplot as plt\n",
    "\n",
    "rds = np.arange(50,1000,10)\n",
    "og = np.zeros(len(rds))\n",
    "new = np.zeros(len(rds))\n",
    "for ird, rd in enumerate(rds):\n",
    "    old_k = Kpoints.automatic_density(s,rd)\n",
    "    new_k = _bump_up_kpoints(old_k,s)\n",
    "    og[ird] = np.prod(old_k.kpts[0])\n",
    "    new[ird] = np.prod(new_k[\"kpoints\"][0])\n",
    "plt.scatter(og,new/og)"
   ]
  },
  {
   "cell_type": "code",
   "execution_count": 87,
   "metadata": {},
   "outputs": [
    {
     "data": {
      "text/plain": [
       "array([1.5       , 1.5       , 1.5       , 2.        , 2.        ,\n",
       "       2.        , 2.        , 1.33333333, 1.33333333, 1.33333333,\n",
       "       1.33333333, 1.33333333, 1.25      , 1.25      , 1.25      ,\n",
       "       1.25      , 1.25      , 1.25      , 1.25      , 1.25      ,\n",
       "       1.25      , 1.25      , 1.25      , 1.25      , 1.25      ,\n",
       "       1.25      , 1.25      , 1.25      , 2.25      , 2.25      ,\n",
       "       2.25      , 2.25      , 1.5       , 1.5       , 1.2       ,\n",
       "       1.2       , 1.2       , 1.2       , 1.2       , 1.2       ,\n",
       "       1.2       , 1.2       , 1.2       , 1.2       , 1.2       ,\n",
       "       1.2       , 1.2       , 1.2       , 1.2       , 1.2       ,\n",
       "       1.2       , 1.2       , 1.55555556, 1.55555556, 1.55555556,\n",
       "       1.55555556, 1.55555556, 1.55555556, 1.55555556, 1.55555556,\n",
       "       1.55555556, 1.55555556, 1.55555556, 1.55555556, 1.55555556,\n",
       "       1.55555556, 1.55555556, 1.55555556, 1.55555556, 1.55555556,\n",
       "       1.55555556, 1.55555556, 1.55555556, 1.55555556, 1.55555556,\n",
       "       1.55555556, 1.55555556, 1.55555556, 1.55555556, 1.55555556,\n",
       "       1.55555556, 1.55555556, 1.55555556, 1.55555556, 1.55555556,\n",
       "       1.33333333, 1.33333333, 1.14285714, 1.14285714, 1.14285714,\n",
       "       1.14285714, 1.14285714, 1.14285714, 1.14285714, 1.14285714])"
      ]
     },
     "execution_count": 87,
     "metadata": {},
     "output_type": "execute_result"
    }
   ],
   "source": [
    "new/og"
   ]
  }
 ],
 "metadata": {
  "kernelspec": {
   "display_name": "matpes",
   "language": "python",
   "name": "python3"
  },
  "language_info": {
   "codemirror_mode": {
    "name": "ipython",
    "version": 3
   },
   "file_extension": ".py",
   "mimetype": "text/x-python",
   "name": "python",
   "nbconvert_exporter": "python",
   "pygments_lexer": "ipython3",
   "version": "3.11.0"
  }
 },
 "nbformat": 4,
 "nbformat_minor": 2
}
